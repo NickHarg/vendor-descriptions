{
 "cells": [
  {
   "cell_type": "code",
   "execution_count": 124,
   "metadata": {},
   "outputs": [
    {
     "name": "stdout",
     "output_type": "stream",
     "text": [
      "[WinError 2] The system cannot find the file specified: 'data_samples'\n",
      "C:\\Users\\nh103043\\workspace\\vendor_descriptions\\data_samples\n"
     ]
    }
   ],
   "source": [
    "%pwd\n",
    "%cd data_samples"
   ]
  },
  {
   "cell_type": "code",
   "execution_count": 125,
   "metadata": {},
   "outputs": [],
   "source": [
    "import pandas as pd\n",
    "import numpy as np\n",
    "pd.options.display.max_columns = None\n",
    "pd.set_option('display.float_format', lambda x: '%.2f' % x)"
   ]
  },
  {
   "cell_type": "code",
   "execution_count": 203,
   "metadata": {},
   "outputs": [],
   "source": [
    "sent1 = pd.read_csv(\"first-sentence-markets.csv\")\n",
    "sent2 = pd.read_csv(\"second-sentence-prime-contracts.csv\")\n",
    "sent3 = pd.read_csv(\"third-sentence-task-orders.csv\")\n",
    "sent4 = pd.read_csv(\"fourth-sentence-agencies.csv\")\n",
    "sent5 = pd.read_csv(\"fifth-sentence-subcontracts.csv\")\n",
    "sent6 = pd.read_csv(\"sixth-sentence-age.csv\")\n",
    "sent7 = pd.read_csv(\"seventh-sentence-small-biz.csv\")"
   ]
  },
  {
   "cell_type": "code",
   "execution_count": 217,
   "metadata": {},
   "outputs": [
    {
     "name": "stdout",
     "output_type": "stream",
     "text": [
      "shaun provides python.\n",
      "shaun provides python and is learning.\n",
      "shaun provides python, is learning, and more.\n"
     ]
    }
   ],
   "source": [
    "def first_sentence(vendor_name, market_titles):\n",
    "    count = len(market_titles)\n",
    "    if count == 0:\n",
    "        return null\n",
    "    elif count == 1:\n",
    "        return vendor_name + \" provides \" + market_titles[0] + \".\"\n",
    "    elif count == 2:\n",
    "        return vendor_name + \" provides \" + \" and \".join(market_titles) + \".\"\n",
    "    elif count > 2:\n",
    "        return vendor_name + \" provides \" + \", \".join(market_titles[:2]) + \", and more.\"\n",
    "    \n",
    "print(first_sentence('shaun', ['python',]))\n",
    "print(first_sentence('shaun', ['python','is learning']))\n",
    "print(first_sentence('shaun', ['python','is learning','test']))"
   ]
  },
  {
   "cell_type": "code",
   "execution_count": 215,
   "metadata": {},
   "outputs": [
    {
     "name": "stdout",
     "output_type": "stream",
     "text": [
      "It has 1 active prime federal contract, c1.\n",
      "It has 2 active prime federal contracts, c1 and c2.\n",
      "It has many active prime federal contracts, led by c1 and c2.\n"
     ]
    }
   ],
   "source": [
    "def second_sentence(vendor_name, contracts):\n",
    "    count = len(contracts)\n",
    "    if count == 0:\n",
    "        return vendor_name + \" has no active prime federal contracts.\"\n",
    "    elif count == 1:\n",
    "        return \"It has \" + str(count) + \" active prime federal contract, \" + contracts[0] + \".\"\n",
    "    elif count == 2:\n",
    "        return \"It has \" + str(count) + \" active prime federal contracts, \" + \" and \".join(contracts[:2]) + \".\"\n",
    "    elif count > 2:\n",
    "        return \"It has many active prime federal contracts, led by \" + \" and \".join(contracts[:2]) + \".\"\n",
    "\n",
    "    \n",
    "print(second_sentence('nick',['c1']))\n",
    "print(second_sentence('nick',['c1','c2']))\n",
    "print(second_sentence('nick',['c1','c2','c3']))"
   ]
  },
  {
   "cell_type": "code",
   "execution_count": 220,
   "metadata": {},
   "outputs": [
    {
     "name": "stdout",
     "output_type": "stream",
     "text": [
      "It has 1 active task order.\n",
      "It has 2 active task orders.\n",
      "It has 3 active task orders.\n"
     ]
    }
   ],
   "source": [
    "def third_sentence(vendor_name, task_orders):\n",
    "    count = len(task_orders)\n",
    "    if count == 0:\n",
    "        return null\n",
    "    elif count == 1:\n",
    "        return \"It has \" + str(count) + \" active task order.\"\n",
    "    elif count > 1:\n",
    "        return \"It has \" + str(count) + \" active task orders.\"\n",
    "    \n",
    "print(third_sentence('nick',['t1']))\n",
    "print(third_sentence('nick',['t1','t2']))\n",
    "print(third_sentence('nick',['t1','t2','t3']))"
   ]
  },
  {
   "cell_type": "code",
   "execution_count": 224,
   "metadata": {},
   "outputs": [
    {
     "name": "stdout",
     "output_type": "stream",
     "text": [
      "Its only federal customer is the DOD.\n",
      "It has two federal customers, the DOD and the HHS.\n",
      "Its two largest federal customers are the DOD and the HHS.\n"
     ]
    }
   ],
   "source": [
    "def fourth_sentence(vendor_name, agencies):\n",
    "    count = len(agencies)\n",
    "    if count == 0:\n",
    "        return null\n",
    "    elif count == 1:\n",
    "        return \"Its only federal customer is the \" + agencies[0] + \".\"\n",
    "    elif count == 2:\n",
    "        return \"It has two federal customers, the \" + \" and the \".join(agencies[:2]) + \".\"\n",
    "    elif count > 2:\n",
    "        return \"Its two largest federal customers are the \" + \" and the \".join(agencies[:2]) + \".\"\n",
    "    \n",
    "print(fourth_sentence('nick',['DOD']))\n",
    "print(fourth_sentence('nick',['DOD','HHS']))\n",
    "print(fourth_sentence('nick',['DOD','HHS','DOE']))"
   ]
  },
  {
   "cell_type": "code",
   "execution_count": 229,
   "metadata": {},
   "outputs": [
    {
     "name": "stdout",
     "output_type": "stream",
     "text": [
      "It has also subcontracted to Kevin.\n",
      "It has subcontracted to Kevin.\n",
      "It has also subcontracted to Kevin and Tim.\n",
      "It has subcontracted to Kevin and Tim.\n",
      "It has also subcontracted to 3 vendors, including Kevin and Tim.\n",
      "It has subcontracted to 3 vendors, including Kevin and Tim.\n"
     ]
    }
   ],
   "source": [
    "def fifth_sentence(vendor_name, subs, primes):\n",
    "    sub_count = len(subs)\n",
    "    prime_count = len(primes)\n",
    "    \n",
    "    if sub_count == 0:\n",
    "        return null\n",
    "    elif prime_count == 0:\n",
    "        if sub_count == 1:\n",
    "            return \"It has subcontracted to \" + subs[0] + \".\"\n",
    "        elif sub_count == 2:\n",
    "            return \"It has subcontracted to \" + \" and \".join(subs[:2]) + \".\"\n",
    "        elif sub_count > 2:\n",
    "            return \"It has subcontracted to \" + str(sub_count) + \" vendors, including \" + \" and \".join(subs[:2]) + \".\"\n",
    "    elif prime_count > 0:\n",
    "        if sub_count == 1:\n",
    "            return \"It has also subcontracted to \" + subs[0] + \".\"\n",
    "        elif sub_count == 2:\n",
    "            return \"It has also subcontracted to \" + \" and \".join(subs[:2]) + \".\"\n",
    "        elif sub_count > 2:\n",
    "            return \"It has also subcontracted to \" + str(sub_count) + \" vendors, including \" + \" and \".join(subs[:2]) + \".\"\n",
    "            \n",
    "    \n",
    "print(fifth_sentence('nick',['Kevin'],['prime']))\n",
    "print(fifth_sentence('nick',['Kevin'],[]))\n",
    "print(fifth_sentence('nick',['Kevin','Tim'],['prime']))\n",
    "print(fifth_sentence('nick',['Kevin','Tim'],[]))\n",
    "print(fifth_sentence('nick',['Kevin','Tim','Donald'],['prime']))\n",
    "print(fifth_sentence('nick',['Kevin','Tim','Donald'],[]))"
   ]
  },
  {
   "cell_type": "code",
   "execution_count": 232,
   "metadata": {},
   "outputs": [
    {
     "name": "stdout",
     "output_type": "stream",
     "text": [
      "The company was established in 1990.\n"
     ]
    }
   ],
   "source": [
    "def sixth_sentence(vendor_name, year):\n",
    "    return \"The company was established in \" + str(year) + \".\"\n",
    "\n",
    "print(sixth_sentence('nick',1990))"
   ]
  },
  {
   "cell_type": "code",
   "execution_count": 242,
   "metadata": {},
   "outputs": [
    {
     "name": "stdout",
     "output_type": "stream",
     "text": [
      "The company will exit the 8(a) program on 12/31/2020.\n"
     ]
    }
   ],
   "source": [
    "def seventh_sentence(vendor_name, grad_date):\n",
    "    if grad_date is None:\n",
    "        return null\n",
    "    else:\n",
    "        return \"The company will exit the 8(a) program on \" + str(grad_date) + \".\"\n",
    "    \n",
    "print(seventh_sentence('nick','12/31/2020'))\n",
    "    "
   ]
  },
  {
   "cell_type": "code",
   "execution_count": 202,
   "metadata": {},
   "outputs": [
    {
     "data": {
      "text/plain": [
       "'shaun provides python.'"
      ]
     },
     "execution_count": 202,
     "metadata": {},
     "output_type": "execute_result"
    }
   ],
   "source": [
    "counts = sent1.groupby('VENDOR_KEY').TITLE.nunique().to_dict()\n",
    "##count, vendor name, market names"
   ]
  },
  {
   "cell_type": "code",
   "execution_count": 188,
   "metadata": {},
   "outputs": [
    {
     "name": "stdout",
     "output_type": "stream",
     "text": [
      "0 0 3\n",
      "1 3 1\n",
      "2 13 3\n",
      "3 2668 3\n",
      "4 10696 1\n",
      "5 11035 1\n",
      "6 11201 1\n",
      "7 11532 1\n",
      "8 11945 1\n",
      "9 12877 2\n"
     ]
    }
   ],
   "source": [
    "for index,row in counts.head(10).iterrows():\n",
    "    print(index,row['VENDOR_KEY'],row['TITLE'])"
   ]
  },
  {
   "cell_type": "code",
   "execution_count": 127,
   "metadata": {},
   "outputs": [
    {
     "data": {
      "text/html": [
       "<div>\n",
       "<style scoped>\n",
       "    .dataframe tbody tr th:only-of-type {\n",
       "        vertical-align: middle;\n",
       "    }\n",
       "\n",
       "    .dataframe tbody tr th {\n",
       "        vertical-align: top;\n",
       "    }\n",
       "\n",
       "    .dataframe thead th {\n",
       "        text-align: right;\n",
       "    }\n",
       "</style>\n",
       "<table border=\"1\" class=\"dataframe\">\n",
       "  <thead>\n",
       "    <tr style=\"text-align: right;\">\n",
       "      <th></th>\n",
       "      <th>VENDOR_KEY</th>\n",
       "      <th>TITLE</th>\n",
       "    </tr>\n",
       "  </thead>\n",
       "  <tbody>\n",
       "    <tr>\n",
       "      <th>0</th>\n",
       "      <td>0</td>\n",
       "      <td>3</td>\n",
       "    </tr>\n",
       "    <tr>\n",
       "      <th>1</th>\n",
       "      <td>3</td>\n",
       "      <td>1</td>\n",
       "    </tr>\n",
       "    <tr>\n",
       "      <th>2</th>\n",
       "      <td>13</td>\n",
       "      <td>3</td>\n",
       "    </tr>\n",
       "    <tr>\n",
       "      <th>3</th>\n",
       "      <td>2668</td>\n",
       "      <td>3</td>\n",
       "    </tr>\n",
       "    <tr>\n",
       "      <th>4</th>\n",
       "      <td>10696</td>\n",
       "      <td>1</td>\n",
       "    </tr>\n",
       "  </tbody>\n",
       "</table>\n",
       "</div>"
      ],
      "text/plain": [
       "   VENDOR_KEY  TITLE\n",
       "0           0      3\n",
       "1           3      1\n",
       "2          13      3\n",
       "3        2668      3\n",
       "4       10696      1"
      ]
     },
     "execution_count": 127,
     "metadata": {},
     "output_type": "execute_result"
    }
   ],
   "source": [
    "def count_logic(vendor_key):\n",
    "    "
   ]
  },
  {
   "cell_type": "code",
   "execution_count": 107,
   "metadata": {},
   "outputs": [
    {
     "name": "stdout",
     "output_type": "stream",
     "text": [
      "3\n",
      "1\n",
      "3\n",
      "3\n",
      "1\n",
      "1\n",
      "1\n",
      "1\n",
      "1\n",
      "2\n",
      "1\n",
      "1\n",
      "1\n",
      "1\n",
      "1\n",
      "1\n",
      "1\n",
      "1\n",
      "1\n",
      "1\n",
      "1\n",
      "1\n",
      "2\n",
      "1\n",
      "1\n",
      "1\n",
      "1\n",
      "1\n",
      "1\n",
      "1\n",
      "1\n",
      "1\n",
      "1\n",
      "1\n",
      "1\n",
      "1\n",
      "1\n",
      "1\n",
      "1\n",
      "1\n",
      "2\n"
     ]
    }
   ],
   "source": [
    "for index,row in vendor_counts.iterrows():\n",
    "    print(row.TITLE)"
   ]
  },
  {
   "cell_type": "code",
   "execution_count": null,
   "metadata": {},
   "outputs": [],
   "source": []
  },
  {
   "cell_type": "code",
   "execution_count": null,
   "metadata": {},
   "outputs": [],
   "source": []
  },
  {
   "cell_type": "code",
   "execution_count": null,
   "metadata": {},
   "outputs": [],
   "source": []
  },
  {
   "cell_type": "code",
   "execution_count": null,
   "metadata": {},
   "outputs": [],
   "source": []
  },
  {
   "cell_type": "code",
   "execution_count": null,
   "metadata": {},
   "outputs": [],
   "source": []
  }
 ],
 "metadata": {
  "kernelspec": {
   "display_name": "Python 3",
   "language": "python",
   "name": "python3"
  },
  "language_info": {
   "codemirror_mode": {
    "name": "ipython",
    "version": 3
   },
   "file_extension": ".py",
   "mimetype": "text/x-python",
   "name": "python",
   "nbconvert_exporter": "python",
   "pygments_lexer": "ipython3",
   "version": "3.7.3"
  }
 },
 "nbformat": 4,
 "nbformat_minor": 2
}
