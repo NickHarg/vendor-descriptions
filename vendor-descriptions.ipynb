{
 "cells": [
  {
   "cell_type": "code",
   "execution_count": 124,
   "metadata": {},
   "outputs": [
    {
     "name": "stdout",
     "output_type": "stream",
     "text": [
      "[WinError 2] The system cannot find the file specified: 'data_samples'\n",
      "C:\\Users\\nh103043\\workspace\\vendor_descriptions\\data_samples\n"
     ]
    }
   ],
   "source": [
    "%pwd\n",
    "%cd data_samples"
   ]
  },
  {
   "cell_type": "code",
   "execution_count": 125,
   "metadata": {},
   "outputs": [],
   "source": [
    "import pandas as pd\n",
    "import numpy as np\n",
    "pd.options.display.max_columns = None\n",
    "pd.set_option('display.float_format', lambda x: '%.2f' % x)"
   ]
  },
  {
   "cell_type": "code",
   "execution_count": 133,
   "metadata": {},
   "outputs": [
    {
     "data": {
      "text/html": [
       "<div>\n",
       "<style scoped>\n",
       "    .dataframe tbody tr th:only-of-type {\n",
       "        vertical-align: middle;\n",
       "    }\n",
       "\n",
       "    .dataframe tbody tr th {\n",
       "        vertical-align: top;\n",
       "    }\n",
       "\n",
       "    .dataframe thead th {\n",
       "        text-align: right;\n",
       "    }\n",
       "</style>\n",
       "<table border=\"1\" class=\"dataframe\">\n",
       "  <thead>\n",
       "    <tr style=\"text-align: right;\">\n",
       "      <th></th>\n",
       "      <th>VENDOR_KEY</th>\n",
       "      <th>VENDOR_BESTNAME</th>\n",
       "      <th>TITLE</th>\n",
       "      <th>DOLLARS</th>\n",
       "    </tr>\n",
       "  </thead>\n",
       "  <tbody>\n",
       "    <tr>\n",
       "      <th>0</th>\n",
       "      <td>0</td>\n",
       "      <td>-</td>\n",
       "      <td>Aircraft, Ships, Subs and Land Combat Vehicles</td>\n",
       "      <td>3010743506.00</td>\n",
       "    </tr>\n",
       "    <tr>\n",
       "      <th>1</th>\n",
       "      <td>0</td>\n",
       "      <td>-</td>\n",
       "      <td>Research &amp; Development</td>\n",
       "      <td>1230852005.00</td>\n",
       "    </tr>\n",
       "    <tr>\n",
       "      <th>2</th>\n",
       "      <td>0</td>\n",
       "      <td>-</td>\n",
       "      <td>Sustainment Supplies and Equipment</td>\n",
       "      <td>1152344580.00</td>\n",
       "    </tr>\n",
       "    <tr>\n",
       "      <th>3</th>\n",
       "      <td>3</td>\n",
       "      <td>Karl Steiger Gmbh Anlagenbau And Facility Mana...</td>\n",
       "      <td>Industrial Products and Services</td>\n",
       "      <td>88831.00</td>\n",
       "    </tr>\n",
       "    <tr>\n",
       "      <th>4</th>\n",
       "      <td>13</td>\n",
       "      <td>Shirazi Trading Co.,</td>\n",
       "      <td>Management &amp; Advisory Services</td>\n",
       "      <td>42996.00</td>\n",
       "    </tr>\n",
       "    <tr>\n",
       "      <th>5</th>\n",
       "      <td>13</td>\n",
       "      <td>Shirazi Trading Co.,</td>\n",
       "      <td>Professional Services</td>\n",
       "      <td>42996.00</td>\n",
       "    </tr>\n",
       "    <tr>\n",
       "      <th>6</th>\n",
       "      <td>13</td>\n",
       "      <td>Shirazi Trading Co.,</td>\n",
       "      <td>Research &amp; Development</td>\n",
       "      <td>408955.47</td>\n",
       "    </tr>\n",
       "    <tr>\n",
       "      <th>7</th>\n",
       "      <td>2668</td>\n",
       "      <td>Miscellaneous Foreign Awardees</td>\n",
       "      <td>Miscellaneous Supplies and Equipment</td>\n",
       "      <td>26584517865.00</td>\n",
       "    </tr>\n",
       "    <tr>\n",
       "      <th>8</th>\n",
       "      <td>2668</td>\n",
       "      <td>Miscellaneous Foreign Awardees</td>\n",
       "      <td>Facilities and Construction</td>\n",
       "      <td>4895586750.00</td>\n",
       "    </tr>\n",
       "    <tr>\n",
       "      <th>9</th>\n",
       "      <td>2668</td>\n",
       "      <td>Miscellaneous Foreign Awardees</td>\n",
       "      <td>Transportation and Logistics Services</td>\n",
       "      <td>6994721899.00</td>\n",
       "    </tr>\n",
       "  </tbody>\n",
       "</table>\n",
       "</div>"
      ],
      "text/plain": [
       "   VENDOR_KEY                                    VENDOR_BESTNAME  \\\n",
       "0           0                                                  -   \n",
       "1           0                                                  -   \n",
       "2           0                                                  -   \n",
       "3           3  Karl Steiger Gmbh Anlagenbau And Facility Mana...   \n",
       "4          13                               Shirazi Trading Co.,   \n",
       "5          13                               Shirazi Trading Co.,   \n",
       "6          13                               Shirazi Trading Co.,   \n",
       "7        2668                     Miscellaneous Foreign Awardees   \n",
       "8        2668                     Miscellaneous Foreign Awardees   \n",
       "9        2668                     Miscellaneous Foreign Awardees   \n",
       "\n",
       "                                            TITLE        DOLLARS  \n",
       "0  Aircraft, Ships, Subs and Land Combat Vehicles  3010743506.00  \n",
       "1                          Research & Development  1230852005.00  \n",
       "2              Sustainment Supplies and Equipment  1152344580.00  \n",
       "3                Industrial Products and Services       88831.00  \n",
       "4                  Management & Advisory Services       42996.00  \n",
       "5                           Professional Services       42996.00  \n",
       "6                          Research & Development      408955.47  \n",
       "7            Miscellaneous Supplies and Equipment 26584517865.00  \n",
       "8                     Facilities and Construction  4895586750.00  \n",
       "9           Transportation and Logistics Services  6994721899.00  "
      ]
     },
     "execution_count": 133,
     "metadata": {},
     "output_type": "execute_result"
    }
   ],
   "source": [
    "sent1 = pd.read_csv(\"first-sentence-markets.csv\")\n",
    "sent2 = pd.read_csv(\"second-sentence-prime-contracts.csv\")\n",
    "sent3 = pd.read_csv(\"third-sentence-task-orders.csv\")\n",
    "sent4 = pd.read_csv(\"fourth-sentence-agencies.csv\")\n",
    "sent5 = pd.read_csv(\"fifth-sentence-subcontracts.csv\")\n",
    "sent6 = pd.read_csv(\"sixth-sentence-age.csv\")\n",
    "sent7 = pd.read_csv(\"seventh-sentence-small-biz.csv\")\n",
    "\n",
    "sent1.head(10)"
   ]
  },
  {
   "cell_type": "code",
   "execution_count": 195,
   "metadata": {},
   "outputs": [
    {
     "data": {
      "text/plain": [
       "VENDOR_KEY\n",
       "0        3\n",
       "3        1\n",
       "13       3\n",
       "2668     3\n",
       "10696    1\n",
       "11035    1\n",
       "11201    1\n",
       "11532    1\n",
       "11945    1\n",
       "12877    2\n",
       "Name: TITLE, dtype: int64"
      ]
     },
     "execution_count": 195,
     "metadata": {},
     "output_type": "execute_result"
    }
   ],
   "source": [
    "counts = sent1.groupby('VENDOR_KEY').TITLE.nunique()\n",
    "counts.head(10)"
   ]
  },
  {
   "cell_type": "code",
   "execution_count": 188,
   "metadata": {},
   "outputs": [
    {
     "name": "stdout",
     "output_type": "stream",
     "text": [
      "0 0 3\n",
      "1 3 1\n",
      "2 13 3\n",
      "3 2668 3\n",
      "4 10696 1\n",
      "5 11035 1\n",
      "6 11201 1\n",
      "7 11532 1\n",
      "8 11945 1\n",
      "9 12877 2\n"
     ]
    }
   ],
   "source": [
    "for index,row in counts.head(10).iterrows():\n",
    "    print(index,row['VENDOR_KEY'],row['TITLE'])"
   ]
  },
  {
   "cell_type": "code",
   "execution_count": 127,
   "metadata": {},
   "outputs": [
    {
     "data": {
      "text/html": [
       "<div>\n",
       "<style scoped>\n",
       "    .dataframe tbody tr th:only-of-type {\n",
       "        vertical-align: middle;\n",
       "    }\n",
       "\n",
       "    .dataframe tbody tr th {\n",
       "        vertical-align: top;\n",
       "    }\n",
       "\n",
       "    .dataframe thead th {\n",
       "        text-align: right;\n",
       "    }\n",
       "</style>\n",
       "<table border=\"1\" class=\"dataframe\">\n",
       "  <thead>\n",
       "    <tr style=\"text-align: right;\">\n",
       "      <th></th>\n",
       "      <th>VENDOR_KEY</th>\n",
       "      <th>TITLE</th>\n",
       "    </tr>\n",
       "  </thead>\n",
       "  <tbody>\n",
       "    <tr>\n",
       "      <th>0</th>\n",
       "      <td>0</td>\n",
       "      <td>3</td>\n",
       "    </tr>\n",
       "    <tr>\n",
       "      <th>1</th>\n",
       "      <td>3</td>\n",
       "      <td>1</td>\n",
       "    </tr>\n",
       "    <tr>\n",
       "      <th>2</th>\n",
       "      <td>13</td>\n",
       "      <td>3</td>\n",
       "    </tr>\n",
       "    <tr>\n",
       "      <th>3</th>\n",
       "      <td>2668</td>\n",
       "      <td>3</td>\n",
       "    </tr>\n",
       "    <tr>\n",
       "      <th>4</th>\n",
       "      <td>10696</td>\n",
       "      <td>1</td>\n",
       "    </tr>\n",
       "  </tbody>\n",
       "</table>\n",
       "</div>"
      ],
      "text/plain": [
       "   VENDOR_KEY  TITLE\n",
       "0           0      3\n",
       "1           3      1\n",
       "2          13      3\n",
       "3        2668      3\n",
       "4       10696      1"
      ]
     },
     "execution_count": 127,
     "metadata": {},
     "output_type": "execute_result"
    }
   ],
   "source": [
    "def count_logic(vendor_key):\n",
    "    "
   ]
  },
  {
   "cell_type": "code",
   "execution_count": 107,
   "metadata": {},
   "outputs": [
    {
     "name": "stdout",
     "output_type": "stream",
     "text": [
      "3\n",
      "1\n",
      "3\n",
      "3\n",
      "1\n",
      "1\n",
      "1\n",
      "1\n",
      "1\n",
      "2\n",
      "1\n",
      "1\n",
      "1\n",
      "1\n",
      "1\n",
      "1\n",
      "1\n",
      "1\n",
      "1\n",
      "1\n",
      "1\n",
      "1\n",
      "2\n",
      "1\n",
      "1\n",
      "1\n",
      "1\n",
      "1\n",
      "1\n",
      "1\n",
      "1\n",
      "1\n",
      "1\n",
      "1\n",
      "1\n",
      "1\n",
      "1\n",
      "1\n",
      "1\n",
      "1\n",
      "2\n"
     ]
    }
   ],
   "source": [
    "for index,row in vendor_counts.iterrows():\n",
    "    print(row.TITLE)"
   ]
  },
  {
   "cell_type": "code",
   "execution_count": null,
   "metadata": {},
   "outputs": [],
   "source": []
  },
  {
   "cell_type": "code",
   "execution_count": null,
   "metadata": {},
   "outputs": [],
   "source": []
  },
  {
   "cell_type": "code",
   "execution_count": null,
   "metadata": {},
   "outputs": [],
   "source": []
  },
  {
   "cell_type": "code",
   "execution_count": null,
   "metadata": {},
   "outputs": [],
   "source": []
  },
  {
   "cell_type": "code",
   "execution_count": null,
   "metadata": {},
   "outputs": [],
   "source": []
  }
 ],
 "metadata": {
  "kernelspec": {
   "display_name": "Python 3",
   "language": "python",
   "name": "python3"
  },
  "language_info": {
   "codemirror_mode": {
    "name": "ipython",
    "version": 3
   },
   "file_extension": ".py",
   "mimetype": "text/x-python",
   "name": "python",
   "nbconvert_exporter": "python",
   "pygments_lexer": "ipython3",
   "version": "3.7.3"
  }
 },
 "nbformat": 4,
 "nbformat_minor": 2
}
